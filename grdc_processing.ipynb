{
 "cells": [
  {
   "cell_type": "code",
   "execution_count": 2,
   "metadata": {},
   "outputs": [],
   "source": [
    "import os\n",
    "import pandas as pd"
   ]
  },
  {
   "cell_type": "code",
   "execution_count": null,
   "metadata": {},
   "outputs": [],
   "source": [
    "attributes = ['code', 'river', 'station', 'country', 'latitude', 'longitude',\n",
    "              'altitude', 'catchment_area', 'time_series']\n",
    "daily_files = [n for n in os.listdir() if (n.endswith('txt')) & ('Day' in n)]\n",
    "monthly_files = [n for n in os.listdir() if (n.endswith('txt')) & ('Month' in n)]"
   ]
  },
  {
   "cell_type": "code",
   "execution_count": null,
   "metadata": {},
   "outputs": [],
   "source": [
    "def data2df(path):\n",
    "    with open(path) as txt:\n",
    "        data = []\n",
    "        for curline in txt:\n",
    "             if curline.startswith(\"#\"):\n",
    "                continue\n",
    "             else:\n",
    "                 for line in curline.splitlines():\n",
    "                     pair = line.split(';')\n",
    "                     pair = [n.strip() for n in pair]\n",
    "                     data.append(pair)\n",
    "    df  = pd.DataFrame(data[1:], columns=data[0])\n",
    "    return df\n",
    "\n",
    "\n",
    "def get_attributes(path):\n",
    "    with open(path) as txt:\n",
    "        data = []\n",
    "        for curline in txt:\n",
    "             if curline.startswith(\"#\"):\n",
    "                for line in curline.splitlines():\n",
    "                    pair = line[1:].split(':')\n",
    "                    pair = [n.strip() for n in pair]\n",
    "                    if len(pair) < 2:\n",
    "                        continue\n",
    "                    else:\n",
    "                        # data.append(pair)\n",
    "                        if 'GRDC-No.' in pair:\n",
    "                            data.append(pair[1])\n",
    "                        elif 'River' in pair:\n",
    "                            data.append(pair[1])\n",
    "                        elif 'Station' in pair:\n",
    "                            data.append(pair[1])\n",
    "                        elif 'Country' in pair:\n",
    "                            data.append(pair[1])\n",
    "                        elif 'Latitude (DD)' in pair:\n",
    "                            data.append(pair[1])\n",
    "                        elif 'Longitude (DD)' in pair:\n",
    "                            data.append(pair[1])\n",
    "                        elif 'Altitude (m ASL)' in pair:\n",
    "                            data.append(pair[1])\n",
    "                        elif 'Catchment area (km²)' in pair:\n",
    "                            data.append(pair[1])\n",
    "                        elif 'Time series' in pair:\n",
    "                            data.append(pair[1])\n",
    "\n",
    "             else:\n",
    "                continue\n",
    "    return data"
   ]
  },
  {
   "cell_type": "code",
   "execution_count": null,
   "metadata": {},
   "outputs": [],
   "source": [
    "attrs = []\n",
    "for m in monthly_files:\n",
    "    path = m\n",
    "    data = get_attributes(path)\n",
    "    attrs.append(data)\n",
    "\n",
    "\n",
    "df = pd.DataFrame(attrs, columns=attributes).iloc[:-1]\n",
    "df.to_csv('xxx.csv')"
   ]
  }
 ],
 "metadata": {
  "kernelspec": {
   "display_name": "Python 3",
   "language": "python",
   "name": "python3"
  },
  "language_info": {
   "codemirror_mode": {
    "name": "ipython",
    "version": 3
   },
   "file_extension": ".py",
   "mimetype": "text/x-python",
   "name": "python",
   "nbconvert_exporter": "python",
   "pygments_lexer": "ipython3",
   "version": "3.7.8"
  }
 },
 "nbformat": 4,
 "nbformat_minor": 2
}
