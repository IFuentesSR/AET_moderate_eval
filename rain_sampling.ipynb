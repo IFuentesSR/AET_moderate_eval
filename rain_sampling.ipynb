{
  "nbformat": 4,
  "nbformat_minor": 0,
  "metadata": {
    "colab": {
      "provenance": [],
      "authorship_tag": "ABX9TyMb75G2ysyvDuWVBCvMCZQI",
      "include_colab_link": true
    },
    "kernelspec": {
      "name": "python3",
      "display_name": "Python 3"
    },
    "language_info": {
      "name": "python"
    }
  },
  "cells": [
    {
      "cell_type": "markdown",
      "metadata": {
        "id": "view-in-github",
        "colab_type": "text"
      },
      "source": [
        "<a href=\"https://colab.research.google.com/github/IFuentesSR/AET_moderate_eval/blob/main/rain_sampling.ipynb\" target=\"_parent\"><img src=\"https://colab.research.google.com/assets/colab-badge.svg\" alt=\"Open In Colab\"/></a>"
      ]
    },
    {
      "cell_type": "code",
      "execution_count": null,
      "metadata": {
        "id": "RrtD7P9a_meW"
      },
      "outputs": [],
      "source": [
        "import ee\n",
        "ee.Authenticate()\n",
        "ee.Initialize(project='zzzz')"
      ]
    },
    {
      "cell_type": "code",
      "source": [
        "chirps = ee.ImageCollection(\"UCSB-CHG/CHIRPS/DAILY\")\n",
        "gpm = ee.ImageCollection(\"NASA/GPM_L3/IMERG_MONTHLY_V06\")\n",
        "years = ee.List.sequence(1981, 2022)\n",
        "basins = ee.FeatureCollection('xxxxxxxxxxxxxxxx')"
      ],
      "metadata": {
        "id": "Yjaucvp9ATwh"
      },
      "execution_count": null,
      "outputs": []
    },
    {
      "cell_type": "code",
      "source": [
        "def daily2Monthly(y):\n",
        "    def inner(m):\n",
        "        date = ee.Date.fromYMD(y, m, 1)\n",
        "        date1 = date.advance(1, 'month')\n",
        "        subset = chirps.filterDate(date, date1)\n",
        "        return subset.reduce('sum').setMulti({'system:time_start':date.millis(),\n",
        "                                              'date':date.format('YYYY-MM-dd'),\n",
        "                                              'size':subset.size()})\n",
        "    months = ee.List.sequence(1, 12).map(inner)\n",
        "    return months\n",
        "\n",
        "\n",
        "def rainChirps(collection):\n",
        "    def wrap(fea):\n",
        "        def inner(img):\n",
        "            rain = img.reduceRegion('mean', fea.geometry(), 5000).values().get(0)\n",
        "            return ee.Feature(None, {'rain':rain,\n",
        "                                    'Cuenca':fea.get('NOM_CUEN'),\n",
        "                                    'date':ee.Date(img.get('system:time_start')).format('YYYY-MM-dd')})\n",
        "\n",
        "        return collection.map(inner)\n",
        "    return wrap\n"
      ],
      "metadata": {
        "id": "UnONi7_MAXL8"
      },
      "execution_count": null,
      "outputs": []
    },
    {
      "cell_type": "code",
      "source": [
        "rain_chirps = ee.ImageCollection.fromImages(years.map(daily2Monthly).flatten())\n",
        "rain_chirps = rain_chirps.sort('system:time_start').filter(ee.Filter.gte('size', 28))\n",
        "chirps_rain = basins.map(rainChirps(rain_chirps)).flatten()\n",
        "ee.batch.Export.table.toDrive(chirps_rain, 'rain_chirps_xxx').start()"
      ],
      "metadata": {
        "id": "oSMHUbqRAceP"
      },
      "execution_count": null,
      "outputs": []
    },
    {
      "cell_type": "code",
      "source": [
        "def rainGPM(collection):\n",
        "    def wrap(fea):\n",
        "        def inner(img):\n",
        "            rain = img.reduceRegion('mean', fea.geometry(), 11132).values().get(0)\n",
        "            return ee.Feature(None, {'rain':rain,\n",
        "                                    'Cuenca':fea.get('NOM_CUEN'),\n",
        "                                    'date':ee.Date(img.get('system:time_start')).format('YYYY-MM-dd')})\n",
        "\n",
        "        return collection.map(inner)\n",
        "    return wrap"
      ],
      "metadata": {
        "id": "NMqLEgmEA2RR"
      },
      "execution_count": null,
      "outputs": []
    },
    {
      "cell_type": "code",
      "source": [
        "gpm_rain = basins.map(rainGPM(gpm)).flatten()\n",
        "ee.batch.Export.table.toDrive(gpm_rain, 'rain_gpm_xxxx').start()"
      ],
      "metadata": {
        "id": "anR9VAK9A8yy"
      },
      "execution_count": null,
      "outputs": []
    }
  ]
}