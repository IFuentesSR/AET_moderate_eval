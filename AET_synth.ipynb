{
  "nbformat": 4,
  "nbformat_minor": 0,
  "metadata": {
    "colab": {
      "provenance": [],
      "authorship_tag": "ABX9TyNCXIV0OxCE2JbCmsdEauK+",
      "include_colab_link": true
    },
    "kernelspec": {
      "name": "python3",
      "display_name": "Python 3"
    },
    "language_info": {
      "name": "python"
    }
  },
  "cells": [
    {
      "cell_type": "markdown",
      "metadata": {
        "id": "view-in-github",
        "colab_type": "text"
      },
      "source": [
        "<a href=\"https://colab.research.google.com/github/IFuentesSR/AET_moderate_eval/blob/main/AET_synth.ipynb\" target=\"_parent\"><img src=\"https://colab.research.google.com/assets/colab-badge.svg\" alt=\"Open In Colab\"/></a>"
      ]
    },
    {
      "cell_type": "code",
      "execution_count": null,
      "metadata": {
        "id": "DF0h3FcR9u2S"
      },
      "outputs": [],
      "source": [
        "import ee\n",
        "ee.Authenticate()\n",
        "ee.Initialize(project='upbeat-imprint-269809')"
      ]
    },
    {
      "cell_type": "code",
      "source": [
        "yyKey = ee.List.sequence(1982, 2019).map(parse)\n",
        "yyVal = ee.List.sequence(1982, 2019)\n",
        "yyDic = ee.Dictionary.fromLists(yyKey, yyVal)\n",
        "mmDic = ee.Dictionary({'01':1,'02':2,'03':3,'04':4,'05':5,'06':6,'07':7,'08':8,'09':9,'10':10,'11':11,'12':12})"
      ],
      "metadata": {
        "id": "TIg3ZkCI-DBb"
      },
      "execution_count": null,
      "outputs": []
    },
    {
      "cell_type": "code",
      "source": [
        "basins = ee.FeatureCollection('xxxxxxxxxxxxxxxxxxxx')"
      ],
      "metadata": {
        "id": "39u0N4VD-bW-"
      },
      "execution_count": null,
      "outputs": []
    },
    {
      "cell_type": "code",
      "source": [
        "def parse(i):\n",
        "    return ee.Number(i).int().format()\n",
        "\n",
        "\n",
        "def readAsset(image):\n",
        "    id = image.id().split(\"_\");\n",
        "    yy = ee.Number(yyDic.get(id.get(1)));\n",
        "    mm = ee.Number(mmDic.get(id.get(2)));\n",
        "    date = ee.Date.fromYMD(day=1, month=mm, year=yy).millis()\n",
        "    return image.divide(100).rename('SynthesizedET').setMulti({'mm':mm, 'yy':yy, 'system:time_start':date})\n",
        "\n",
        "\n",
        "def AET_SYN(collection):\n",
        "    def wrap(fea):\n",
        "        def inner(img):\n",
        "            ET = img.reduceRegion('mean', fea.geometry(), 1000).values().get(0)\n",
        "            return ee.Feature(None, {'AET':ET,\n",
        "                                    'Cuenca':fea.get('NOM_CUEN'),\n",
        "                                    'date':ee.Date(img.get('system:time_start')).format('YYYY-MM-dd')})\n",
        "\n",
        "        return collection.map(inner)\n",
        "    return wrap"
      ],
      "metadata": {
        "id": "bvLh-stF9xjd"
      },
      "execution_count": null,
      "outputs": []
    },
    {
      "cell_type": "code",
      "source": [
        "SynthesizedET = ee.ImageCollection('users/Elnashar/SynthesizedET').map(readAsset).filterDate('2003-01-01', '2020-01-01')\n",
        "AET_Syn = basins.map(AET_SYN(SynthesizedET)).flatten()\n",
        "ee.batch.Export.table.toDrive(AET_Syn, 'xxxx').start()"
      ],
      "metadata": {
        "id": "1BrxHjre-keY"
      },
      "execution_count": null,
      "outputs": []
    }
  ]
}